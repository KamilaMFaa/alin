{
  "cells": [
    {
      "cell_type": "markdown",
      "metadata": {
        "id": "eYeFw4O3YRSL"
      },
      "source": [
        "# Determinan\n",
        "Determinan adalah nilai yang dapat dihitung dari unsur-unsur suatu matrik persegi. Determinan merupakan ukuran skalar dari semua matriks. Berlaku pada matriks bujur sangkar. Contoh : $A_{nxn}$"
      ]
    },
    {
      "cell_type": "code",
      "execution_count": 3,
      "metadata": {},
      "outputs": [
        {
          "name": "stdout",
          "output_type": "stream",
          "text": [
            "[[3 4]\n",
            " [1 0]]\n"
          ]
        },
        {
          "data": {
            "text/plain": [
              "-4.0"
            ]
          },
          "execution_count": 3,
          "metadata": {},
          "output_type": "execute_result"
        }
      ],
      "source": [
        "import numpy as np\n",
        "A = np.array([[3,4],[1,0]])\n",
        "print(A)\n",
        "np.linalg.det(A)"
      ]
    },
    {
      "cell_type": "code",
      "execution_count": 4,
      "metadata": {},
      "outputs": [
        {
          "name": "stdout",
          "output_type": "stream",
          "text": [
            "[[1 2 3]\n",
            " [2 3 4]\n",
            " [3 4 5]]\n",
            "0.0\n"
          ]
        }
      ],
      "source": [
        "B = np.array([[1,2,3],[2,3,4],[3,4,5]])\n",
        "print(B)\n",
        "print(np.linalg.det(B))"
      ]
    },
    {
      "cell_type": "markdown",
      "metadata": {
        "id": "7x3Y4AesYqrt"
      },
      "source": [
        "## Sifat-sifat Determinan"
      ]
    },
    {
      "cell_type": "markdown",
      "metadata": {},
      "source": [
        "### 1. Determinan dari matriks identitas adalah 1. Contoh:"
      ]
    },
    {
      "cell_type": "code",
      "execution_count": 5,
      "metadata": {
        "colab": {
          "base_uri": "https://localhost:8080/"
        },
        "id": "0_eVvdY6YPzi",
        "outputId": "7fbe386e-0c2b-45a9-bbf9-bde98923320b"
      },
      "outputs": [
        {
          "name": "stdout",
          "output_type": "stream",
          "text": [
            "[[1 0]\n",
            " [0 1]]\n"
          ]
        },
        {
          "data": {
            "text/plain": [
              "1.0"
            ]
          },
          "execution_count": 5,
          "metadata": {},
          "output_type": "execute_result"
        }
      ],
      "source": [
        "C = np.array([[1,0],[0,1]])\n",
        "print(C)\n",
        "np.linalg.det(C)"
      ]
    },
    {
      "cell_type": "code",
      "execution_count": 6,
      "metadata": {},
      "outputs": [
        {
          "name": "stdout",
          "output_type": "stream",
          "text": [
            "[[1 0 0]\n",
            " [0 1 0]\n",
            " [0 0 1]]\n"
          ]
        },
        {
          "data": {
            "text/plain": [
              "1.0"
            ]
          },
          "execution_count": 6,
          "metadata": {},
          "output_type": "execute_result"
        }
      ],
      "source": [
        "D = np.array([[1,0,0],[0,1,0],[0,0,1]])\n",
        "print(D)\n",
        "np.linalg.det(D)"
      ]
    },
    {
      "cell_type": "markdown",
      "metadata": {
        "id": "rgIdiLPzckfP"
      },
      "source": [
        "### 2. Determinan dari matriks AB sama dengan determinan matriks A dikali determinan matriks B.\n",
        "\n",
        "$det(AB) = det(A).det(B)$"
      ]
    },
    {
      "cell_type": "code",
      "execution_count": 7,
      "metadata": {
        "id": "pb8I42bvcGT4"
      },
      "outputs": [],
      "source": [
        "def RowSwap(A,k,l):\n",
        "# =============================================================================\n",
        "#     A is a NumPy array.  RowSwap will return duplicate array with rows\n",
        "#     k and l swapped.\n",
        "# =============================================================================\n",
        "    m = A.shape[0]  # m is number of rows in A\n",
        "    n = A.shape[1]  # n is number of columns in A\n",
        "\n",
        "    B = np.copy(A).astype('float64')\n",
        "\n",
        "    for j in range(n):\n",
        "        temp = B[k][j]\n",
        "        B[k][j] = B[l][j]\n",
        "        B[l][j] = temp\n",
        "\n",
        "    return B\n",
        "\n",
        "def RowScale(A,k,scale):\n",
        "# =============================================================================\n",
        "#     A is a NumPy array.  RowScale will return duplicate array with the\n",
        "#     entries of row k multiplied by scale.\n",
        "# =============================================================================\n",
        "    m = A.shape[0]  # m is number of rows in A\n",
        "    n = A.shape[1]  # n is number of columns in A\n",
        "\n",
        "    B = np.copy(A).astype('float64')\n",
        "\n",
        "    for j in range(n):\n",
        "        B[k][j] *= scale\n",
        "\n",
        "    return B\n",
        "\n",
        "def RowAdd(A,k,l,scale):\n",
        "# =============================================================================\n",
        "#     A is a numpy array.  RowAdd will return duplicate array with row\n",
        "#     l modifed.  The new values will be the old values of row l added to\n",
        "#     the values of row k, multiplied by scale.\n",
        "# =============================================================================\n",
        "    m = A.shape[0]  # m is number of rows in A\n",
        "    n = A.shape[1]  # n is number of columns in A\n",
        "\n",
        "    B = np.copy(A).astype('float64')\n",
        "\n",
        "    for j in range(n):\n",
        "        B[l][j] += B[k][j]*scale\n",
        "\n",
        "    return B"
      ]
    },
    {
      "cell_type": "code",
      "execution_count": 8,
      "metadata": {
        "colab": {
          "base_uri": "https://localhost:8080/"
        },
        "id": "Z-FM9kWEfeBH",
        "outputId": "b6c9da69-eea8-47de-95f3-0820c5f77e7d"
      },
      "outputs": [
        {
          "name": "stdout",
          "output_type": "stream",
          "text": [
            "[[3 5 1]\n",
            " [2 6 2]\n",
            " [1 3 1]]\n",
            "0.0\n",
            "[[1 1 2]\n",
            " [1 1 3]\n",
            " [2 1 2]]\n",
            "1.0\n",
            "det(E) x det(F) : 0.0\n",
            "[[10  9 23]\n",
            " [12 10 26]\n",
            " [ 6  5 13]]\n",
            "0.0\n"
          ]
        }
      ],
      "source": [
        "E = np.array([[3,5,1],[2,6,2],[1,3,1]])\n",
        "F = np.array([[1,1,2],[1,1,3],[2,1,2]])\n",
        "G = E@F\n",
        "print(E)\n",
        "e = np.linalg.det(E)\n",
        "print(e)\n",
        "print(F)\n",
        "f = np.linalg.det(F)\n",
        "print(f)\n",
        "print(\"det(E) x det(F) :\", e*f)\n",
        "print(G)\n",
        "g = np.linalg.det(G)\n",
        "print(g)"
      ]
    },
    {
      "cell_type": "markdown",
      "metadata": {},
      "source": [
        "### 3. Jika $I=A.A^{-1}$ maka $det(I)=det(A).det(A^{-1})$. Sehingga, $det(A^{-1})=\\frac{1}{det(A)}$"
      ]
    },
    {
      "cell_type": "code",
      "execution_count": 9,
      "metadata": {
        "colab": {
          "base_uri": "https://localhost:8080/"
        },
        "id": "fgutmymwbcc-",
        "outputId": "90cf3b76-f0f9-4ae8-e06f-58b441a5a9fd"
      },
      "outputs": [
        {
          "name": "stdout",
          "output_type": "stream",
          "text": [
            "[[3 4]\n",
            " [1 0]]\n",
            "[[1 0]\n",
            " [0 1]]\n"
          ]
        }
      ],
      "source": [
        "print(A)\n",
        "print(C)"
      ]
    },
    {
      "cell_type": "code",
      "execution_count": 10,
      "metadata": {
        "colab": {
          "base_uri": "https://localhost:8080/"
        },
        "id": "TAZ8E47xcUAr",
        "outputId": "4a46fb31-76f0-472b-9c96-1ba39780dcad"
      },
      "outputs": [
        {
          "name": "stdout",
          "output_type": "stream",
          "text": [
            "[[1. 0.]\n",
            " [3. 4.]]\n",
            "[[0. 1.]\n",
            " [1. 0.]]\n"
          ]
        }
      ],
      "source": [
        "A1 = RowSwap(A,0,1,)\n",
        "C1 = RowSwap(C,0,1)\n",
        "print(A1)\n",
        "print(C1)"
      ]
    },
    {
      "cell_type": "code",
      "execution_count": 11,
      "metadata": {
        "id": "q69stk9zeW-U"
      },
      "outputs": [
        {
          "name": "stdout",
          "output_type": "stream",
          "text": [
            "[[1. 0.]\n",
            " [0. 4.]]\n",
            "[[ 0.  1.]\n",
            " [ 1. -3.]]\n"
          ]
        }
      ],
      "source": [
        "A2 = RowAdd(A1,0,1,-3)\n",
        "C2 = RowAdd(C1,0,1,-3)\n",
        "print(A2)\n",
        "print(C2)"
      ]
    },
    {
      "cell_type": "code",
      "execution_count": 12,
      "metadata": {},
      "outputs": [
        {
          "name": "stdout",
          "output_type": "stream",
          "text": [
            "[[1. 0.]\n",
            " [0. 1.]]\n",
            "[[ 0.    1.  ]\n",
            " [ 0.25 -0.75]]\n"
          ]
        }
      ],
      "source": [
        "A3 = RowAdd(A2,1,1,-3/4)\n",
        "C3 = RowAdd(C2,1,1,-3/4)\n",
        "print(A3)\n",
        "print(C3)"
      ]
    },
    {
      "cell_type": "code",
      "execution_count": 13,
      "metadata": {},
      "outputs": [
        {
          "name": "stdout",
          "output_type": "stream",
          "text": [
            "[[3 4]\n",
            " [1 0]]\n",
            "[[ 0.    1.  ]\n",
            " [ 0.25 -0.75]]\n",
            "[[1. 0.]\n",
            " [0. 1.]]\n"
          ]
        }
      ],
      "source": [
        "print(A)\n",
        "print(C3)\n",
        "I = A@C3\n",
        "print(I)"
      ]
    },
    {
      "cell_type": "markdown",
      "metadata": {},
      "source": [
        "Operasi-operasi di atas menunjukkan bahwa perkalian $A$ dengan $A^{-1}$ hasilnya adalah matriks Identitas."
      ]
    },
    {
      "cell_type": "markdown",
      "metadata": {
        "id": "j6xY6rmnhja1"
      },
      "source": [
        "### 4. Penukaran kolom atau baris matriks akan mengubah tanda determinan."
      ]
    },
    {
      "cell_type": "code",
      "execution_count": 14,
      "metadata": {
        "colab": {
          "base_uri": "https://localhost:8080/"
        },
        "id": "VK-GYDomgajv",
        "outputId": "a2c17b28-876f-4e92-d0db-883f41dd7671"
      },
      "outputs": [
        {
          "name": "stdout",
          "output_type": "stream",
          "text": [
            "[[1 4 2]\n",
            " [1 1 1]\n",
            " [3 2 1]]\n"
          ]
        },
        {
          "data": {
            "text/plain": [
              "5"
            ]
          },
          "execution_count": 14,
          "metadata": {},
          "output_type": "execute_result"
        }
      ],
      "source": [
        "A = np.array([[1,4,2],[1,1,1],[3,2,1]])\n",
        "print(A)\n",
        "round(np.linalg.det(A))"
      ]
    },
    {
      "cell_type": "code",
      "execution_count": 15,
      "metadata": {
        "colab": {
          "base_uri": "https://localhost:8080/"
        },
        "id": "Zggv1814hwge",
        "outputId": "398201a7-9875-40bd-c458-49f3451518f3"
      },
      "outputs": [
        {
          "name": "stdout",
          "output_type": "stream",
          "text": [
            "[[1. 1. 1.]\n",
            " [1. 4. 2.]\n",
            " [3. 2. 1.]]\n"
          ]
        },
        {
          "data": {
            "text/plain": [
              "-5"
            ]
          },
          "execution_count": 15,
          "metadata": {},
          "output_type": "execute_result"
        }
      ],
      "source": [
        "# Penukaran baris\n",
        "A1 = RowSwap(A,0,1)\n",
        "print(A1)\n",
        "round(np.linalg.det(A1))"
      ]
    },
    {
      "cell_type": "code",
      "execution_count": 16,
      "metadata": {
        "colab": {
          "base_uri": "https://localhost:8080/"
        },
        "id": "XGafRQodh0YT",
        "outputId": "b04e8481-a402-4dc8-833e-6235075bed35"
      },
      "outputs": [
        {
          "name": "stdout",
          "output_type": "stream",
          "text": [
            "[[1 4 2]\n",
            " [1 1 1]\n",
            " [3 2 1]]\n"
          ]
        },
        {
          "data": {
            "text/plain": [
              "-5"
            ]
          },
          "execution_count": 16,
          "metadata": {},
          "output_type": "execute_result"
        }
      ],
      "source": [
        "# Penukaran kolom\n",
        "A2 = np.array([[1,2,4],[1,1,1],[3,1,2]])\n",
        "print(A)\n",
        "round(np.linalg.det(A1))"
      ]
    },
    {
      "cell_type": "markdown",
      "metadata": {
        "id": "KFRIXuV4i-hc"
      },
      "source": [
        "### 5. Jika nilai-nilai suatu baris atau kolom pada sebuah matriks merupakan kelipatan dari nilai-nilai baris atau kolom lainnya, maka determinannya adalah 0."
      ]
    },
    {
      "cell_type": "code",
      "execution_count": 17,
      "metadata": {
        "colab": {
          "base_uri": "https://localhost:8080/"
        },
        "id": "LioZ1r0viZjL",
        "outputId": "84256ab9-3d3c-48af-810c-f1aa1a2bc751"
      },
      "outputs": [
        {
          "name": "stdout",
          "output_type": "stream",
          "text": [
            "[[1 4 2]\n",
            " [2 8 4]\n",
            " [3 2 1]]\n"
          ]
        },
        {
          "data": {
            "text/plain": [
              "0"
            ]
          },
          "execution_count": 17,
          "metadata": {},
          "output_type": "execute_result"
        }
      ],
      "source": [
        "B = np.array([[1,4,2],[2,8,4],[3,2,1]])\n",
        "print(B)\n",
        "round(np.linalg.det(B))"
      ]
    },
    {
      "cell_type": "code",
      "execution_count": 18,
      "metadata": {
        "colab": {
          "base_uri": "https://localhost:8080/"
        },
        "id": "WtxpIOACjTfF",
        "outputId": "8a3f5cc1-9eb8-4286-bf44-1fac5d960f65"
      },
      "outputs": [
        {
          "name": "stdout",
          "output_type": "stream",
          "text": [
            "[[1 4 2]\n",
            " [2 8 4]\n",
            " [1 4 1]]\n"
          ]
        },
        {
          "data": {
            "text/plain": [
              "0"
            ]
          },
          "execution_count": 18,
          "metadata": {},
          "output_type": "execute_result"
        }
      ],
      "source": [
        "B1 = np.array([[1,4,2],[2,8,4],[1,4,1]])\n",
        "print(B1)\n",
        "round(np.linalg.det(B1))"
      ]
    },
    {
      "cell_type": "markdown",
      "metadata": {
        "id": "aUFeIc6blMRd"
      },
      "source": [
        "### 6. Jika determinan skalar k dan determinan matriks $A_{n x n}$ dikalikan, maka $det(k.A)=k^n.det(A)$."
      ]
    },
    {
      "cell_type": "code",
      "execution_count": 19,
      "metadata": {
        "colab": {
          "base_uri": "https://localhost:8080/"
        },
        "id": "PD52gKXZlXWf",
        "outputId": "b9715bc5-e0bb-4402-b41c-1fa59999f52b"
      },
      "outputs": [
        {
          "name": "stdout",
          "output_type": "stream",
          "text": [
            "[[1 4 2]\n",
            " [1 1 1]\n",
            " [3 2 1]]\n",
            "5\n"
          ]
        }
      ],
      "source": [
        "print(A)\n",
        "print(round(np.linalg.det(A)))"
      ]
    },
    {
      "cell_type": "code",
      "execution_count": 20,
      "metadata": {
        "colab": {
          "base_uri": "https://localhost:8080/"
        },
        "id": "z1Xi3XdknCuZ",
        "outputId": "90529c73-e3d5-4842-c47f-6019082de7a4"
      },
      "outputs": [
        {
          "name": "stdout",
          "output_type": "stream",
          "text": [
            "[[2 8 4]\n",
            " [2 2 2]\n",
            " [6 4 2]]\n",
            "40\n"
          ]
        }
      ],
      "source": [
        "k = 2\n",
        "print(k*A)\n",
        "print(round(np.linalg.det(k*A)))"
      ]
    },
    {
      "cell_type": "markdown",
      "metadata": {
        "id": "7UW8VSWdripk"
      },
      "source": [
        "### 7. Melakukan operasi baris elementer terhadap matriks tidak akan mengubah determinan dan inversnya."
      ]
    },
    {
      "cell_type": "code",
      "execution_count": 21,
      "metadata": {
        "colab": {
          "base_uri": "https://localhost:8080/"
        },
        "id": "OD1CAwnHrM8L",
        "outputId": "0b674b7e-10e3-436a-f0da-c953544a2dfb"
      },
      "outputs": [
        {
          "name": "stdout",
          "output_type": "stream",
          "text": [
            "[[ 1  4  2]\n",
            " [ 0 -3 -1]\n",
            " [ 3  2  1]]\n",
            "5\n"
          ]
        }
      ],
      "source": [
        "B = np.array([[1,4,2],[0,-3,-1],[3,2,1]])\n",
        "print(B)\n",
        "print(round(np.linalg.det(B)))"
      ]
    },
    {
      "cell_type": "markdown",
      "metadata": {
        "id": "MTygqp-xsFi2"
      },
      "source": [
        "### 8. Determinan Transpose matriks A sama dengan determinan matriks A"
      ]
    },
    {
      "cell_type": "code",
      "execution_count": 22,
      "metadata": {
        "colab": {
          "base_uri": "https://localhost:8080/"
        },
        "id": "zlwxYcqdsUX6",
        "outputId": "23840010-1d0c-46ea-a272-3c803a0ccc2d"
      },
      "outputs": [
        {
          "name": "stdout",
          "output_type": "stream",
          "text": [
            "[[1 1 3]\n",
            " [4 1 2]\n",
            " [2 1 1]]\n",
            "5\n"
          ]
        }
      ],
      "source": [
        "A = np.array([[1,1,3],[4,1,2],[2,1,1]])\n",
        "print(A)\n",
        "print(round(np.linalg.det(A)))"
      ]
    },
    {
      "cell_type": "code",
      "execution_count": 23,
      "metadata": {
        "colab": {
          "base_uri": "https://localhost:8080/"
        },
        "id": "HaWAZtCKswcz",
        "outputId": "fa983bd2-07aa-4d03-f982-20e8675b317b"
      },
      "outputs": [
        {
          "name": "stdout",
          "output_type": "stream",
          "text": [
            "[[1 4 2]\n",
            " [1 1 1]\n",
            " [3 2 1]]\n",
            "5\n"
          ]
        }
      ],
      "source": [
        "A1 = np.transpose(A)\n",
        "print(A1)\n",
        "print(round(np.linalg.det(A1)))"
      ]
    },
    {
      "cell_type": "markdown",
      "metadata": {
        "id": "Ky9lggjwyEr2"
      },
      "source": [
        "## Mencari determinan dengan Ekspansi Kofaktor\n",
        "Terdapat matrix A yang berukuran $nxn$. Minor suatu matriks 𝐴 dilambangkan dengan 𝑀𝑖j adalah determinan matriks bagian dari matriks 𝐴 yang diperoleh dengan cara menghilangkan elemen – elemennya pada baris ke-𝑖 dan elemen elemen pada kolom ke-𝑗. Dengan demikian untuk matriks 1 x 1, kita tidak bisa mendapatkan minornya. Minor kita bisa dapatkan pada matriks persegi 2 x 2, 3 x 3, dan seterusnya.Sedangkan kofaktor adalah hasil perkalian minor dengan suatu angka yang besarnya menuruti suatu aturan yaitu $(-1)^{i+j}$ dimana i adalah baris dan j adalah kolom. Kofaktor suatu elemen baris ke-𝑖 dan kolom ke-𝑗 dari matriks A dilambangkan dengan $C^{ij}$.\n",
        "\n",
        "$C^{ij} = (-1)^{i+j} M^{ij}$\n",
        "\n",
        "-> Ekspansi kofaktor baris i\n",
        "\n",
        "$det(A)=a_{i1}C_{i1}+a_{i2}C_{i2}+ \\cdots +a_{in}C_{in}$\n",
        "\n",
        "-> Ekspansi kofaktor kolom j\n",
        "\n",
        "$det(A)=a_{1j}C_{1j}+a_{2j}C_{2j}+ \\cdots +a_{nj}C_{nj}$"
      ]
    },
    {
      "cell_type": "markdown",
      "metadata": {},
      "source": [
        "Diberikan Matriks 4x4:\n",
        "\n",
        "$A =$\n",
        "$\n",
        " \\begin{bmatrix}\n",
        "  -1 & 0 & 0 & -2 \\\\\n",
        "  1 & 0 & 5 & -5 \\\\\n",
        "  0 & 1 & 4 & 0  \\\\\n",
        "  0 & 0 & 5 & 0 \n",
        " \\end{bmatrix}\n",
        "$\n",
        "\n",
        "Determinan: $det(A)=a_{41}C_{41}+a_{42}C_{42}+ a_{43}C_{43} +a_{44}C_{44}$"
      ]
    },
    {
      "cell_type": "markdown",
      "metadata": {},
      "source": [
        "Jabarkan satu per satu. \n",
        "- $a_{41}$\n",
        "\n",
        "$A =$\n",
        "$\n",
        " \\begin{bmatrix}\n",
        "  \\vdots & 0 & 0 & -2 \\\\\n",
        "  \\vdots & 0 & 5 & -5 \\\\\n",
        "  \\vdots & 1 & 4 & 0  \\\\\n",
        "  \\ddots & \\cdots & \\cdots & \\cdots \n",
        " \\end{bmatrix}\n",
        "$\n",
        "\n",
        "$det(A)=0(-1)^{4+1}$\n",
        "$\n",
        " \\begin{vmatrix}\n",
        "  0 & 0 & -2 \\\\\n",
        "  0 & 5 & -5 \\\\\n",
        "  1 & 4 & 0\n",
        " \\end{vmatrix}\n",
        "$\n",
        "$+a_{42}C_{42}+ a_{43}C_{43} +a_{44}C_{44}$"
      ]
    },
    {
      "cell_type": "markdown",
      "metadata": {},
      "source": [
        "- $a_{42}$\n",
        "\n",
        "$A =$\n",
        "$\n",
        " \\begin{bmatrix}\n",
        "  -1 & \\vdots & 0 & -2 \\\\\n",
        "  1 & \\vdots & 5 & -5 \\\\\n",
        "  0 & \\vdots & 4 & 0  \\\\\n",
        "  \\cdots & \\ddots & \\cdots & \\cdots \n",
        " \\end{bmatrix}\n",
        "$\n",
        "\n",
        "$det(A)=0(-1)^{4+1}$\n",
        "$\n",
        " \\begin{vmatrix}\n",
        "  0 & 0 & -2 \\\\\n",
        "  0 & 5 & -5 \\\\\n",
        "  1 & 4 & 0\n",
        " \\end{vmatrix}\n",
        "$\n",
        "$+0(-1)^{4+2}$\n",
        "$\n",
        " \\begin{vmatrix}\n",
        "  -1 & 0 & -2 \\\\\n",
        "  1 & 5 & -5 \\\\\n",
        "  0 & 4 & 0\n",
        " \\end{vmatrix}\n",
        "$\n",
        "$+ a_{43}C_{43} +a_{44}C_{44}$"
      ]
    },
    {
      "cell_type": "markdown",
      "metadata": {},
      "source": [
        "- $a_{43}$\n",
        "\n",
        "$A =$\n",
        "$\n",
        " \\begin{bmatrix}\n",
        "  -1 & 0 & \\vdots & -2 \\\\\n",
        "  1 & 0 & \\vdots & -5 \\\\\n",
        "  0 & 1 & \\vdots & 0  \\\\\n",
        "  \\cdots & \\cdots & \\ddots & \\cdots \n",
        " \\end{bmatrix}\n",
        "$\n",
        "\n",
        "$det(A)=0(-1)^{4+1}$\n",
        "$\n",
        " \\begin{vmatrix}\n",
        "  0 & 0 & -2 \\\\\n",
        "  0 & 5 & -5 \\\\\n",
        "  1 & 4 & 0\n",
        " \\end{vmatrix}\n",
        "$\n",
        "$+0(-1)^{4+2}$\n",
        "$\n",
        " \\begin{vmatrix}\n",
        "  -1 & 0 & -2 \\\\\n",
        "  1 & 5 & -5 \\\\\n",
        "  0 & 4 & 0\n",
        " \\end{vmatrix}\n",
        "$\n",
        "$+ (-5)(-1)^{4+3}$\n",
        "$\n",
        " \\begin{vmatrix}\n",
        "  -1 & 0 & -2 \\\\\n",
        "  1 & 0 & -5 \\\\\n",
        "  0 & 1 & 0\n",
        " \\end{vmatrix}\n",
        "$\n",
        "$+a_{44}C_{44}$"
      ]
    },
    {
      "cell_type": "markdown",
      "metadata": {},
      "source": [
        "- $a_{44}$\n",
        "\n",
        "$A =$\n",
        "$\n",
        " \\begin{bmatrix}\n",
        "  -1 & 0 & 0 & \\vdots \\\\\n",
        "  1 & 0 & 5 & \\vdots \\\\\n",
        "  0 & 1 & 4 & \\vdots \\\\\n",
        "  \\cdots & \\cdots & \\cdots & \\ddots \n",
        " \\end{bmatrix}\n",
        "$\n",
        "\n",
        "$det(A)=0(-1)^{4+1}$\n",
        "$\n",
        " \\begin{vmatrix}\n",
        "  0 & 0 & -2 \\\\\n",
        "  0 & 5 & -5 \\\\\n",
        "  1 & 4 & 0\n",
        " \\end{vmatrix}\n",
        "$\n",
        "$+0(-1)^{4+2}$\n",
        "$\n",
        " \\begin{vmatrix}\n",
        "  -1 & 0 & -2 \\\\\n",
        "  1 & 5 & -5 \\\\\n",
        "  0 & 4 & 0\n",
        " \\end{vmatrix}\n",
        "$\n",
        "$+ (-5)(-1)^{4+3}$\n",
        "$\n",
        " \\begin{vmatrix}\n",
        "  -1 & 0 & -2 \\\\\n",
        "  1 & 0 & -5 \\\\\n",
        "  0 & 1 & 0\n",
        " \\end{vmatrix}\n",
        "$\n",
        "$+0(-1)^{4+4}$\n",
        "$\n",
        " \\begin{vmatrix}\n",
        "  -1 & 0 & 0 \\\\\n",
        "  1 & 0 & 5 \\\\\n",
        "  0 & 1 & 4\n",
        " \\end{vmatrix}\n",
        "$"
      ]
    },
    {
      "cell_type": "markdown",
      "metadata": {},
      "source": [
        "Persamaan determinan kemudian dioperasikan.\n",
        "\n",
        "$det(A)=0(-1)^{4+1}$\n",
        "$\n",
        " \\begin{vmatrix}\n",
        "  0 & 0 & -2 \\\\\n",
        "  0 & 5 & -5 \\\\\n",
        "  1 & 4 & 0\n",
        " \\end{vmatrix}\n",
        "$\n",
        "$+0(-1)^{4+2}$\n",
        "$\n",
        " \\begin{vmatrix}\n",
        "  -1 & 0 & -2 \\\\\n",
        "  1 & 5 & -5 \\\\\n",
        "  0 & 4 & 0\n",
        " \\end{vmatrix}\n",
        "$\n",
        "$+ (-5)(-1)^{4+3}$\n",
        "$\n",
        " \\begin{vmatrix}\n",
        "  -1 & 0 & -2 \\\\\n",
        "  1 & 0 & -5 \\\\\n",
        "  0 & 1 & 0\n",
        " \\end{vmatrix}\n",
        "$\n",
        "$+0(-1)^{4+4}$\n",
        "$\n",
        " \\begin{vmatrix}\n",
        "  -1 & 0 & 0 \\\\\n",
        "  1 & 0 & 5 \\\\\n",
        "  0 & 1 & 4\n",
        " \\end{vmatrix}\n",
        "$\n",
        "\n",
        "Untuk bagian yang hasilnya tidak nol akan kembali dioperasikan dengan Ekspansi Kofaktor seperti cara sebelumnya.\n",
        "\n",
        "$det(A)=0+0+$\n",
        "$+ (-5)(-1)^{4+3}$\n",
        "$\n",
        " \\begin{vmatrix}\n",
        "  -1 & 0 & -2 \\\\\n",
        "  1 & 0 & -5 \\\\\n",
        "  0 & 1 & 0\n",
        " \\end{vmatrix}\n",
        "$\n",
        "$+0$\n",
        "\n",
        "$det(A)=5$\n",
        "$\n",
        " \\begin{vmatrix}\n",
        "  -1 & 0 & -2 \\\\\n",
        "  1 & 0 & -5 \\\\\n",
        "  0 & 1 & 0\n",
        " \\end{vmatrix}\n",
        "$\n",
        "$=5$\n",
        "$\\left( 0(-1)^{3+1}\n",
        " \\begin{vmatrix}\n",
        "  0 & -2 \\\\\n",
        "  0 & -5\n",
        " \\end{vmatrix}\n",
        "+1(-1)^{3+2}\n",
        " \\begin{vmatrix}\n",
        "  -1 & -2 \\\\\n",
        "  1 & -5\n",
        " \\end{vmatrix}\n",
        "+0(-1)^{3+3}\n",
        " \\begin{vmatrix}\n",
        "  -1 & 0 \\\\\n",
        "  1 & 0\n",
        " \\end{vmatrix}\n",
        "\\right)$\n",
        "\n",
        "Matriks yang tadinya berukuran 3x3 berubah menjadi berukuran 2x2. Determinan menjadi lebih mudah untuk ditemukan.\n",
        "\n",
        "$det(A)=5$\n",
        "$\\left( (-1)\n",
        " \\begin{vmatrix}\n",
        "  -1 & -2 \\\\\n",
        "  1 & -5\n",
        " \\end{vmatrix}\n",
        "\\right)$\n",
        "$=5(-1(5-(-2))) = 5(-1(7)) = 5(-7) = -35$"
      ]
    },
    {
      "cell_type": "markdown",
      "metadata": {
        "id": "A3Ujezmupjqp"
      },
      "source": [
        "## Matriks Segitiga Atas\n",
        "\n",
        "Matriks segitiga atas merupakan bentuk matriks persegi yang elemen di bawah diagonal utamanya bernilai nol, sehingga seolah-olah berbentuk segitiga."
      ]
    },
    {
      "cell_type": "code",
      "execution_count": null,
      "metadata": {
        "colab": {
          "base_uri": "https://localhost:8080/"
        },
        "id": "__XCcVgtqdZz",
        "outputId": "7487f1ac-d663-49c0-9523-9d98d6d4fad6"
      },
      "outputs": [
        {
          "name": "stdout",
          "output_type": "stream",
          "text": [
            "[[2 3 1 2]\n",
            " [0 1 2 1]\n",
            " [0 0 5 2]\n",
            " [0 0 0 3]]\n",
            "30\n"
          ]
        }
      ],
      "source": [
        "A = np.array([[2,3,1,2],[0,1,2,1],[0,0,5,2],[0,0,0,3]])\n",
        "print(A)\n",
        "print(round(np.linalg.det(A)))"
      ]
    },
    {
      "cell_type": "code",
      "execution_count": null,
      "metadata": {
        "colab": {
          "base_uri": "https://localhost:8080/"
        },
        "id": "X3lqaPtRp8AE",
        "outputId": "1e3af038-f227-405c-d42b-49366a94921d"
      },
      "outputs": [
        {
          "name": "stdout",
          "output_type": "stream",
          "text": [
            "[[1 4 2]\n",
            " [0 4 1]\n",
            " [0 0 1]]\n",
            "4\n"
          ]
        }
      ],
      "source": [
        "A = np.array([[1,4,2],[0,4,1],[0,0,1]])\n",
        "print(A)\n",
        "print(round(np.linalg.det(A)))"
      ]
    },
    {
      "cell_type": "code",
      "execution_count": null,
      "metadata": {
        "colab": {
          "base_uri": "https://localhost:8080/"
        },
        "id": "oY8JXcElqWDK",
        "outputId": "a938817a-309d-491f-e503-573d811a5dd6"
      },
      "outputs": [
        {
          "name": "stdout",
          "output_type": "stream",
          "text": [
            "[[4 2]\n",
            " [0 1]]\n",
            "4\n"
          ]
        }
      ],
      "source": [
        "A = np.array([[4,2],[0,1]])\n",
        "print(A)\n",
        "print(round(np.linalg.det(A)))"
      ]
    }
  ],
  "metadata": {
    "colab": {
      "provenance": []
    },
    "kernelspec": {
      "display_name": "Python 3 (ipykernel)",
      "language": "python",
      "name": "python3"
    }
  },
  "nbformat": 4,
  "nbformat_minor": 0
}
