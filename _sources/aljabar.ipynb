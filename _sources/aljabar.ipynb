{
 "cells": [
  {
   "cell_type": "markdown",
   "metadata": {},
   "source": [
    "# Aljabar Matrik\n",
    "Matriks adalah sekumpulan bilangan yang disusun berdasarkan baris dan kolom, serta ditempatkan di dalam tanda kurung. Bisa berupa kurung biasa “( )” atau kurung siku “[ ]”. Suatu matriks diberi nama dengan huruf kapital, seperti A, B, C, dan seterusnya. Komputasi matriks menggunakan numpy, dengan menggunakan array.\n",
    "\n",
    "$A =$\n",
    "$\n",
    " \\begin{bmatrix}\n",
    "  1 & 3\\\\\n",
    "  2 & 1\n",
    " \\end{bmatrix}\n",
    "$\n",
    "\n",
    "$  B =$\n",
    "$\n",
    " \\begin{bmatrix}\n",
    "  3 & 0 & 4\\\\\n",
    "  -1 & -2 & 1\n",
    " \\end{bmatrix}\n",
    "$\n",
    "\n",
    "$  C =$\n",
    "$\n",
    " \\begin{bmatrix}\n",
    "  -2 & 1\n",
    " \\end{bmatrix}\n",
    "$\n",
    "\n",
    "$  D =$\n",
    "$\n",
    " \\begin{bmatrix}\n",
    "  2 \\\\\n",
    "  6 \n",
    " \\end{bmatrix}\n",
    "$\n",
    "\n",
    "Ukuran matriks disebut ordo. Ordo matriks ini berdasarkan dari banyaknya baris dikali banyaknya kolom pada matriks. Jadi, jika jumlah baris matriks A adalam m dan kolomnya adalah n, maka penulisannya adalah $A_{m x n}$. Masing-masing bilangan yang terdapat di dalam matriks disebut elemen matriks. Elemen-elemen tersebut dinotasikan dengan huruf kecil dan diberi indeks yang menyatakan letak baris dan kolomnya. Sehingga jika ada elemen matriks A pada baris ke-i dan kolom ke-j, maka penulisannya adalah $a_{ij}$.\n",
    "\n",
    "*Catatan :* Matriks yang hanya memiliki 1 kolom seperti pada matriks D biasa disebut **vektor**."
   ]
  },
  {
   "cell_type": "markdown",
   "metadata": {},
   "source": [
    "## Implementasi dengan numpy"
   ]
  },
  {
   "cell_type": "code",
   "execution_count": 13,
   "metadata": {},
   "outputs": [
    {
     "name": "stdout",
     "output_type": "stream",
     "text": [
      "[[ 2 -3  4]\n",
      " [-1 -2  1]\n",
      " [ 4 -5  7]]\n",
      "[[-2  1 -6]\n",
      " [ 4 -3  9]]\n"
     ]
    }
   ],
   "source": [
    "import numpy as np\n",
    "A = np.array([[1,3,-2],[2,4,-1],[3,-6,8]])\n",
    "B = np.array([[2,-3,4],[-1,-2,1],[4,-5,7]])\n",
    "C = np.array([[-2,1,-6],[4,-3,9]])\n",
    "D = np.array([[2,8,2],[-4,5,6],[7,-3,1]])\n",
    "print(B)\n",
    "print(C)"
   ]
  },
  {
   "cell_type": "code",
   "execution_count": 3,
   "metadata": {},
   "outputs": [
    {
     "name": "stdout",
     "output_type": "stream",
     "text": [
      "[[9 5 7]\n",
      " [8 8 7]\n",
      " [7 3 9]]\n"
     ]
    }
   ],
   "source": [
    "# Cara buat matrix dengan cepat menggunakan bilangan yang random\n",
    "\n",
    "AAA = np.random.randint(10,size=(3,3))\n",
    "print(AAA)"
   ]
  },
  {
   "cell_type": "code",
   "execution_count": 4,
   "metadata": {},
   "outputs": [
    {
     "name": "stdout",
     "output_type": "stream",
     "text": [
      "(2, 3)\n",
      "2\n",
      "3\n"
     ]
    }
   ],
   "source": [
    "#Cara menentukan ukuran matriks:\n",
    "#  namamatriks.shape\n",
    "print(C.shape)\n",
    "\n",
    "#Cara menentukan jumlah baris:\n",
    "#  namamatriks.shape[0]\n",
    "print(C.shape[0])\n",
    "\n",
    "#Cara menentukan jumlah kolom:\n",
    "#  namamatriks.shape[1]\n",
    "print(C.shape[1])"
   ]
  },
  {
   "cell_type": "markdown",
   "metadata": {},
   "source": [
    "## Implementasi dengan sympy"
   ]
  },
  {
   "cell_type": "code",
   "execution_count": 5,
   "metadata": {},
   "outputs": [
    {
     "data": {
      "text/latex": [
       "$\\displaystyle \\left[\\begin{matrix}2 a & 2 b & 2 c\\\\2 d & 2 e & 2 f\\end{matrix}\\right]$"
      ],
      "text/plain": [
       "Matrix([\n",
       "[2*a, 2*b, 2*c],\n",
       "[2*d, 2*e, 2*f]])"
      ]
     },
     "execution_count": 5,
     "metadata": {},
     "output_type": "execute_result"
    }
   ],
   "source": [
    "import sympy as sy\n",
    "a, b, c, d, e, f, g, h, i, j, k, l, m, n, o, p, q, r, s, t, u, v, w, x, y, z =\\\n",
    "sy.symbols('a, b, c, d, e, f, g, h, i, j, k, l, m, n, o, p, q, r, s, t, u, v, w, x, y, z', real = True)\n",
    "A = sy.Matrix([[a, b, c], [d, e, f]])\n",
    "A + A"
   ]
  },
  {
   "cell_type": "markdown",
   "metadata": {},
   "source": [
    "## Operasi-operasi Matrik\n",
    "Untuk definisi, dimisalkan A dan C adalah matriks $m x n$, B adalah matriks $n x k$, dan c adalah suatu bilangan/skalar.\n",
    "1. Operasi Penjumlahan dan pengurangan. Operasi ini hanya akan dieksekusi jika ukuran kedua matriks sama.\n",
    "- $A+B=B+A$\n",
    "- $A+(B+C)=(A+B)+C$\n",
    "- $A+C=C+A$\n",
    "- $A+(−A)=A-A=0$\n",
    "- $(A + B)_{ij} = a_{ij} + b_{ij}$\n",
    "- $A + O = A$, dimana O adalah matriks nol"
   ]
  },
  {
   "cell_type": "code",
   "execution_count": 7,
   "metadata": {},
   "outputs": [
    {
     "name": "stdout",
     "output_type": "stream",
     "text": [
      "K = [[ 4  5  6]\n",
      " [-5  3  7]\n",
      " [11 -8  8]]\n"
     ]
    }
   ],
   "source": [
    "K = B + D\n",
    "print('K =', K)"
   ]
  },
  {
   "cell_type": "code",
   "execution_count": 14,
   "metadata": {},
   "outputs": [
    {
     "name": "stdout",
     "output_type": "stream",
     "text": [
      "e = 6\n",
      "G = [[  6  18 -12]\n",
      " [ 12  24  -6]\n",
      " [ 18 -36  48]]\n",
      "H = [[  6  18 -12]\n",
      " [ 12  24  -6]\n",
      " [ 18 -36  48]]\n",
      "i = -2\n",
      "j = [[ -2  -6   4]\n",
      " [ -4  -8   2]\n",
      " [ -6  12 -16]]\n",
      "k = [[ -2  -6   4]\n",
      " [ -4  -8   2]\n",
      " [ -6  12 -16]]\n"
     ]
    }
   ],
   "source": [
    "c = 2\n",
    "d = 4\n",
    "e = c + d\n",
    "G = (c+d)*A\n",
    "H = (c*A) + (d*A)\n",
    "print('e =', e)\n",
    "print('G =', G)\n",
    "print('H =', H)\n",
    "i = c - d\n",
    "j = (c-d)*A\n",
    "k = (c*A)-(d*A)\n",
    "print('i =', i)\n",
    "print('j =', j)\n",
    "print('k =', k)"
   ]
  },
  {
   "cell_type": "markdown",
   "metadata": {},
   "source": [
    "2. Operasi Perkalian.\n",
    "- Perkalian dengan skalar $c$ dan $d$.\n",
    "    - $(c + d)A = cA + dA$\n",
    "    - $c(dA) = (cd)A$\n",
    "    - $c(A + B) = cA + cB$\n",
    "    - $c(AB) = (cA)B = A(cB)$\n",
    "- Perkalian dua matriks. Hanya bisa dieksekusi jika jumlah kolom matriks A dan jumlah baris matriks B sama.\n",
    "    - $A \\cdot B\\neq B \\cdot A$\n",
    "    - $A(B \\cdot C) = (A \\cdot B)C$\n",
    "    - $A_{ij} \\cdot B_{jk} = E_{il}$"
   ]
  },
  {
   "cell_type": "code",
   "execution_count": 15,
   "metadata": {},
   "outputs": [
    {
     "name": "stdout",
     "output_type": "stream",
     "text": [
      "[[ 1  3 -2]\n",
      " [ 2  4 -1]\n",
      " [ 3 -6  8]]\n",
      "c x A = [[  2   6  -4]\n",
      " [  4   8  -2]\n",
      " [  6 -12  16]]\n"
     ]
    }
   ],
   "source": [
    "print(A)\n",
    "print(\"c x A =\", c*A)"
   ]
  },
  {
   "cell_type": "code",
   "execution_count": 8,
   "metadata": {},
   "outputs": [
    {
     "name": "stdout",
     "output_type": "stream",
     "text": [
      "A x B = [[  4 -24   8]\n",
      " [  4 -10   6]\n",
      " [ 28  15   7]]\n"
     ]
    }
   ],
   "source": [
    "print(\"A x B =\",B*D)"
   ]
  },
  {
   "cell_type": "code",
   "execution_count": 9,
   "metadata": {},
   "outputs": [
    {
     "name": "stdout",
     "output_type": "stream",
     "text": [
      "A x B = [[ 44 -11 -10]\n",
      " [ 13 -21 -13]\n",
      " [ 77 -14 -15]]\n"
     ]
    }
   ],
   "source": [
    "print(\"A x B =\", B@D)"
   ]
  },
  {
   "cell_type": "code",
   "execution_count": 10,
   "metadata": {},
   "outputs": [
    {
     "ename": "ValueError",
     "evalue": "matmul: Input operand 1 has a mismatch in its core dimension 0, with gufunc signature (n?,k),(k,m?)->(n?,m?) (size 2 is different from 3)",
     "output_type": "error",
     "traceback": [
      "\u001b[0;31m---------------------------------------------------------------------------\u001b[0m",
      "\u001b[0;31mValueError\u001b[0m                                Traceback (most recent call last)",
      "Cell \u001b[0;32mIn[10], line 1\u001b[0m\n\u001b[0;32m----> 1\u001b[0m \u001b[38;5;28mprint\u001b[39m(\u001b[38;5;124m\"\u001b[39m\u001b[38;5;124mA x C\u001b[39m\u001b[38;5;124m\"\u001b[39m, \u001b[43mB\u001b[49m\u001b[38;5;129;43m@C\u001b[39;49m)\n\u001b[1;32m      2\u001b[0m \u001b[38;5;66;03m# Tidak bisa dioperasikan karena jumlah kolom A tidak sama dengan jumlah baris C. Sehingga terjadi error\u001b[39;00m\n",
      "\u001b[0;31mValueError\u001b[0m: matmul: Input operand 1 has a mismatch in its core dimension 0, with gufunc signature (n?,k),(k,m?)->(n?,m?) (size 2 is different from 3)"
     ]
    }
   ],
   "source": [
    "print(\"A x C\", B@C)\n",
    "# Tidak bisa dioperasikan karena jumlah kolom A tidak sama dengan jumlah baris C. Sehingga terjadi error"
   ]
  },
  {
   "cell_type": "markdown",
   "metadata": {},
   "source": [
    "3. Operasi Campuran. Ini menerapkan beberapa operasi di atas. Misalkan terdapat matriks $𝐴$, $B$, $C$ dan $d,e$ sembarang skalar yang sedemikian rupa sehingga berlaku :\n",
    "- $A(B+C)=A \\cdot B + A \\cdot C$\n",
    "- $(B+C)A=B \\cdot A + C \\cdot A$\n",
    "- $d(A+B)=dA+dB$\n",
    "- $(d+e)A=dA+eA$\n",
    "- $(d \\cdot e)A=d(eA)$\n",
    "- $d(B \\cdot C)=(dB)C=B(dC)$"
   ]
  },
  {
   "cell_type": "code",
   "execution_count": 17,
   "metadata": {},
   "outputs": [
    {
     "name": "stdout",
     "output_type": "stream",
     "text": [
      "[[-33  30  11]\n",
      " [-23  30  32]\n",
      " [130 -67  40]]\n",
      "[[-33  30  11]\n",
      " [-23  30  32]\n",
      " [130 -67  40]]\n"
     ]
    }
   ],
   "source": [
    "print(A@(B+D))\n",
    "print(A@B+A@D)"
   ]
  },
  {
   "cell_type": "code",
   "execution_count": 19,
   "metadata": {},
   "outputs": [
    {
     "name": "stdout",
     "output_type": "stream",
     "text": [
      "[[  6  18 -12]\n",
      " [ 12  24  -6]\n",
      " [ 18 -36  48]]\n",
      "[[  6  18 -12]\n",
      " [ 12  24  -6]\n",
      " [ 18 -36  48]]\n"
     ]
    }
   ],
   "source": [
    "print((c+d)*A)\n",
    "print(c*A+d*A)"
   ]
  },
  {
   "cell_type": "markdown",
   "metadata": {},
   "source": [
    "## *Matriks Transpose*\n",
    "\n",
    "Transpose adalah operasi yang menukar setiap baris menjadi kolom dan sebaliknya, yang umumnya dilambangkan sebagai $A^T$. Diperkenalkan pada tahun 1958 oleh matematikawan Inggris bernama Arthur Cayley.\n",
    "\n",
    "Adapun matriks transpose yang dikali dengan matriks awal disebut Matriks Covarian.\n",
    "\n",
    "**Karakteristik :**\n",
    "\n",
    "- $(A^T)^T = A$\n",
    "- $(A+B)^T = A^T + B^T$\n",
    "- $(cA)^T = cA^T$\n",
    "- $(AB)^T = B^T A^T$"
   ]
  },
  {
   "cell_type": "code",
   "execution_count": null,
   "metadata": {},
   "outputs": [
    {
     "name": "stdout",
     "output_type": "stream",
     "text": [
      "[[ 2 -3  4]\n",
      " [-1 -2  1]\n",
      " [ 4 -5  7]]\n",
      "\n",
      "[[ 2 -1  4]\n",
      " [-3 -2 -5]\n",
      " [ 4  1  7]]\n",
      "\n",
      "[[ 4  3 16]\n",
      " [ 3  4 -5]\n",
      " [16 -5 49]]\n"
     ]
    }
   ],
   "source": [
    "# Matriks Awal\n",
    "print(B)\n",
    "print(end=\"\\n\")\n",
    "\n",
    "# Matriks Transpose\n",
    "B_T = B.transpose()\n",
    "print(B_T)\n",
    "print(end=\"\\n\")\n",
    "\n",
    "# Matriks Covarian\n",
    "cov = B * B_T\n",
    "print(cov)"
   ]
  },
  {
   "cell_type": "code",
   "execution_count": null,
   "metadata": {},
   "outputs": [
    {
     "name": "stdout",
     "output_type": "stream",
     "text": [
      "[[  4 -72 -16]\n",
      " [  8 -40  -6]\n",
      " [ 84 -90  56]]\n",
      " \n",
      "[[  4   8  84]\n",
      " [-72 -40 -90]\n",
      " [-16  -6  56]]\n",
      " \n",
      "[[  4   8  84]\n",
      " [-72 -40 -90]\n",
      " [-16  -6  56]]\n",
      " \n",
      "[[ 6 -4 49]\n",
      " [ 0 10 33]\n",
      " [ 4  0 15]]\n",
      " \n"
     ]
    }
   ],
   "source": [
    "import numpy as np\n",
    "A = np.array([[1,3,-2],[2,4,-1],[3,-6,8]])\n",
    "B = np.array([[2,-3,4],[-1,-2,1],[4,-5,7]])\n",
    "C = np.array([[-2,1,-6],[4,-3,9]])\n",
    "D = np.array([[2,8,2],[-4,5,6],[7,-3,1]])\n",
    "t = A*B*D\n",
    "print(t)\n",
    "print(\" \")\n",
    "tt = t.transpose()\n",
    "print(tt)\n",
    "print(\" \")\n",
    "a = A.transpose()\n",
    "b = B.transpose()\n",
    "dd = D.transpose()\n",
    "print(a*b*dd)\n",
    "print(\" \")\n",
    "abd = (A+B)*D\n",
    "ABD = abd.transpose()\n",
    "print(ABD)\n",
    "print(\" \")"
   ]
  },
  {
   "cell_type": "markdown",
   "metadata": {},
   "source": [
    "## *Matriks Elementer*\n",
    "\n",
    "Matriks elementer adalah matriks identitas yang mengalami suatu operasi baris elementer.\n",
    "\n",
    "**Operasi Baris Elementer (OBE)**\n",
    "\n",
    "Setiap baris matriks dilambangkan $R_i$ dengan i sebagai urutan baris. Pada sebuah matriks, kita dapat melakukan operasi-operasi :\n",
    "- Mengalikan suatu baris dengan bilangan tak nol. Simbolnya $kR_i \\rightarrow R_i$ yang artinya baris ke-i berubah setelah dikalikan k.\n",
    "- Menambahkan kelipatan suatu baris pada baris lain. Simbolnya $R_i + kR_i \\rightarrow R_i$ yang artinya baris ke-i berubah setelah dilakukan penjumlahan $R_i + kR_i$.\n",
    "- Menukarkan posisi dua baris. Simbolnya $R_i \\leftrightarrow R_j$.\n",
    "\n",
    "Contoh :"
   ]
  },
  {
   "cell_type": "code",
   "execution_count": null,
   "metadata": {},
   "outputs": [
    {
     "data": {
      "text/latex": [
       "$\\displaystyle \\left[\\begin{matrix}15 & 44 & 58\\\\0 & 33 & 91\\\\82 & 0 & 52\\end{matrix}\\right]$"
      ],
      "text/plain": [
       "Matrix([\n",
       "[15, 44, 58],\n",
       "[ 0, 33, 91],\n",
       "[82,  0, 52]])"
      ]
     },
     "execution_count": 29,
     "metadata": {},
     "output_type": "execute_result"
    }
   ],
   "source": [
    "Aa = sy.randMatrix(3, percent=80); Aa"
   ]
  },
  {
   "cell_type": "code",
   "execution_count": null,
   "metadata": {},
   "outputs": [
    {
     "data": {
      "text/latex": [
       "$\\displaystyle \\left[\\begin{matrix}0 & 1 & 0\\\\1 & 0 & 0\\\\0 & 0 & 1\\end{matrix}\\right]$"
      ],
      "text/plain": [
       "Matrix([\n",
       "[0, 1, 0],\n",
       "[1, 0, 0],\n",
       "[0, 0, 1]])"
      ]
     },
     "execution_count": 28,
     "metadata": {},
     "output_type": "execute_result"
    }
   ],
   "source": [
    "E = sy.Matrix([[0,1,0],[1,0,0],[0,0,1]]);E"
   ]
  },
  {
   "cell_type": "code",
   "execution_count": null,
   "metadata": {},
   "outputs": [
    {
     "data": {
      "text/latex": [
       "$\\displaystyle \\left[\\begin{matrix}2 & 4 & -1\\\\1 & 3 & -2\\\\3 & -6 & 8\\end{matrix}\\right]$"
      ],
      "text/plain": [
       "Matrix([\n",
       "[2,  4, -1],\n",
       "[1,  3, -2],\n",
       "[3, -6,  8]])"
      ]
     },
     "execution_count": 29,
     "metadata": {},
     "output_type": "execute_result"
    }
   ],
   "source": [
    "E*A"
   ]
  },
  {
   "cell_type": "markdown",
   "metadata": {},
   "source": [
    "## *Matriks Identitas*\n",
    "Matriks Identitas adalah matriks bujur sangkar yang mana seluruh nilainya adalah 0 kecuali salah satu diagonalnya yang bernilai 1. Dilambangkan dengan ***I***.\n",
    "\n",
    "Contoh :\n",
    "\n",
    "$I_{4x4} =$\n",
    "$\n",
    " \\begin{bmatrix}\n",
    "  1 & 0 & 0 & 0 \\\\\n",
    "  0 & 1 & 0 & 0 \\\\\n",
    "  0 & 0 & 1 & 0 \\\\\n",
    "  0 & 0 & 0 & 1 \n",
    " \\end{bmatrix}\n",
    "$"
   ]
  },
  {
   "cell_type": "code",
   "execution_count": null,
   "metadata": {},
   "outputs": [
    {
     "name": "stdout",
     "output_type": "stream",
     "text": [
      "[[1. 0. 0. 0. 0.]\n",
      " [0. 1. 0. 0. 0.]\n",
      " [0. 0. 1. 0. 0.]\n",
      " [0. 0. 0. 1. 0.]\n",
      " [0. 0. 0. 0. 1.]]\n"
     ]
    }
   ],
   "source": [
    "import numpy as np\n",
    "I5 = np.eye(5)\n",
    "print(I5)"
   ]
  },
  {
   "cell_type": "markdown",
   "metadata": {},
   "source": [
    "## Perkalian Matriks dengan Perulangan\n",
    "\n",
    "Pada kode di bawah, terdapat output error karena jumlah kolom matriks A adalah tiga, sedangkan baris dari matriks C hanya 2. Sedangkan jika dibalik, maka outputnya berupa angka yang telah dikalikan sesuai operasi perkalian matriks."
   ]
  },
  {
   "cell_type": "code",
   "execution_count": null,
   "metadata": {},
   "outputs": [
    {
     "name": "stdout",
     "output_type": "stream",
     "text": [
      "error --- require 3 but found 2\n",
      "error matrix\n",
      "\n",
      "-18   34   -45   \n",
      "25   -54   67   \n",
      "\n"
     ]
    }
   ],
   "source": [
    "#Fungsi Python untuk mendisplay matrix\n",
    "def display_matrix(mat):\n",
    "  if mat == None:\n",
    "    print(\"error matrix\")\n",
    "  else:\n",
    "    for row in mat:\n",
    "      for elem in row:\n",
    "        print(elem, end='   ')\n",
    "      print(end=\"\\n\")\n",
    "\n",
    "# Fungsi untuk mengalikan matrix\n",
    "def mul_matrix(a,b):\n",
    "  if len(a[0]) != len(b):\n",
    "    print(f\"error --- require {len(a[0])} but found {len(b)}\")\n",
    "    return None\n",
    "  hasil = []\n",
    "  for x in range(len(a)):\n",
    "    result1 = []\n",
    "    for y in range(len(b[0])):\n",
    "      total = 0\n",
    "      for z in range(len(a[0])):\n",
    "        total += a[x][z] * b[z][y]\n",
    "      result1.append(total)\n",
    "    hasil.append(result1)\n",
    "  return hasil\n",
    "\n",
    "hasil_kali = mul_matrix(A,C)\n",
    "display_matrix(hasil_kali)\n",
    "print(end=\"\\n\")\n",
    "hasil_kali2 = mul_matrix(C,A)\n",
    "display_matrix(hasil_kali2)\n",
    "print(end=\"\\n\")"
   ]
  }
 ],
 "metadata": {
  "kernelspec": {
   "display_name": "Python 3 (ipykernel)",
   "language": "python",
   "name": "python3"
  },
  "language_info": {
   "codemirror_mode": {
    "name": "ipython",
    "version": 3
   },
   "file_extension": ".py",
   "mimetype": "text/x-python",
   "name": "python",
   "nbconvert_exporter": "python",
   "pygments_lexer": "ipython3",
   "version": "3.10.13"
  }
 },
 "nbformat": 4,
 "nbformat_minor": 2
}
