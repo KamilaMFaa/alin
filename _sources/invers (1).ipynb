{
 "cells": [
  {
   "cell_type": "markdown",
   "metadata": {},
   "source": [
    "# Matriks Invers\n",
    "Invers matriks A adalah suatu matriks baru yang berkebalikan dengan matriks A dengan notasi $A^{-1}$. Jika matriks tersebut dikalikan dengan invers matriksnya, maka akan terbentuk matriks identitas.\n",
    "\n",
    "Sifat-sifatnya :\n",
    "- $A^{-1}$ dapat diinverskan menjadi $(A^{-1})^{-1} = A$\n",
    "- $A^k$ dapat diinverskan $(A^k)^{-1} = A^{-1} A^{-1}...A^{-1} = (A^{-1})^k = A^{-k}$\n",
    "- $cA$ dapat diinverskan menjadi $(cA)^{-1} = 1/c * A^-1, c = 0$\n",
    "- $A^T$ dapat diinverskan menjadi $(A^T)^{-1} = (A^{-1})^T$"
   ]
  },
  {
   "cell_type": "code",
   "execution_count": 2,
   "metadata": {},
   "outputs": [],
   "source": [
    "import numpy as np"
   ]
  },
  {
   "cell_type": "code",
   "execution_count": 3,
   "metadata": {},
   "outputs": [],
   "source": [
    "def RowSwap(A,k,l):\n",
    "# =============================================================================\n",
    "#     A is a NumPy array.  RowSwap will return duplicate array with rows\n",
    "#     k and l swapped.\n",
    "# =============================================================================\n",
    "    m = A.shape[0]  # m is number of rows in A\n",
    "    n = A.shape[1]  # n is number of columns in A\n",
    "\n",
    "    B = np.copy(A).astype('float64')\n",
    "\n",
    "    for j in range(n):\n",
    "        temp = B[k][j]\n",
    "        B[k][j] = B[l][j]\n",
    "        B[l][j] = temp\n",
    "\n",
    "    return B\n",
    "\n",
    "def RowScale(A,k,scale):\n",
    "# =============================================================================\n",
    "#     A is a NumPy array.  RowScale will return duplicate array with the\n",
    "#     entries of row k multiplied by scale.\n",
    "# =============================================================================\n",
    "    m = A.shape[0]  # m is number of rows in A\n",
    "    n = A.shape[1]  # n is number of columns in A\n",
    "\n",
    "    B = np.copy(A).astype('float64')\n",
    "\n",
    "    for j in range(n):\n",
    "        B[k][j] *= scale\n",
    "\n",
    "    return B\n",
    "\n",
    "def RowAdd(A,k,l,scale):\n",
    "# =============================================================================\n",
    "#     A is a numpy array.  RowAdd will return duplicate array with row\n",
    "#     l modifed.  The new values will be the old values of row l added to\n",
    "#     the values of row k, multiplied by scale.\n",
    "# =============================================================================\n",
    "    m = A.shape[0]  # m is number of rows in A\n",
    "    n = A.shape[1]  # n is number of columns in A\n",
    "\n",
    "    B = np.copy(A).astype('float64')\n",
    "\n",
    "    for j in range(n):\n",
    "        B[l][j] += B[k][j]*scale\n",
    "\n",
    "    return B"
   ]
  },
  {
   "cell_type": "markdown",
   "metadata": {},
   "source": [
    "## Mencari Invers Matriks dengan Metode Eliminasi Gauss-Jordan\n",
    "\n",
    "Eliminasi Gauss-Jordan adalah prosedur pemecahan sistem persamaan linear dengan mengubahnya menjadi bentuk matriks eselon baris tereduksi dengan Operasi Baris Elementer. Matriks Eselon Baris Tereduksi adalah sebuah bentuk matriks eselon baris yang lebih disederhanakan yang bertujuan agar lebih mudah dalam pencarian pemecahan (solusi) dari suatu sistem persamaan. Agar mencapai bentuk eselon baris tereduksi diperlukan 4 sifat, yaitu :\n",
    "- Jika suatu baris yang semua elemennya tidak nol semua, maka bilangan tidak nol pertama dalam baris tersebut adalah 1. Bisa kita sebut dengan 1 utama/pertama.\n",
    "- Jika terdapat baris yang semuanya elemennya bernilai nol, maka semua baris yang seperti itu harus dikelompokkan dan diletakkan  di bawah matriks.\n",
    "- Setiap dua baris yang berurutan yang memenuhi sifat ke-1, maka 1 utama dalam baris yang lebih rendah letaknya harus lebih kekanan dari 1 utama dalam baris yang lebih tinggi.\n",
    "- Sifat ke-4 ini merupakan sifat khusus yaitu setiap kolom yang mengandung 1 utama maka elemen-elemen lain selain 1 utama bernilai nol.\n",
    "\n",
    "Setelah memahami bentuk eselon baris tereduksi selanjutnya kita akan mencoba memecahkan sistem persamaan linear dengan eliminasi gauss-jordan yakni dengan cara merepresentasikan kedalam  matriks kemudian mengubahnya kebentuk eselon baris tereduksi.\n",
    "\n",
    "Persamaan :\n",
    "\n",
    "$x_1 + x_2 + \\frac{1}{2}x_3 + \\frac{1}{2}x_4 = 9$\n",
    "\n",
    "$x_2 - \\frac{1}{2}x_4 + x_4 - \\frac{1}{2}x_5 = 17$\n",
    "\n",
    "$x_3 + 5x_4 - 2x_5 - 2x_6 = 5$\n",
    "\n",
    "Berikut langkah-langkahnya :"
   ]
  },
  {
   "cell_type": "code",
   "execution_count": 4,
   "metadata": {},
   "outputs": [
    {
     "name": "stdout",
     "output_type": "stream",
     "text": [
      "[[ 1.   1.   0.5  0.5  0.   0. ]\n",
      " [ 0.   1.  -0.5  1.  -0.5  0. ]\n",
      " [ 0.   0.   1.   5.  -2.  -2. ]]\n"
     ]
    }
   ],
   "source": [
    "a = np.array([[1,1,0.5,0.5,0,0],[0,1,-0.5,1,-0.5,0],[0,0,1,5,-2,-2]])\n",
    "print(a)"
   ]
  },
  {
   "cell_type": "code",
   "execution_count": 10,
   "metadata": {},
   "outputs": [
    {
     "name": "stdout",
     "output_type": "stream",
     "text": [
      "[[ 1.   1.   0.5  0.5  0.   0. ]\n",
      " [ 0.   1.  -0.5  1.  -0.5  0. ]\n",
      " [ 0.   0.   0.5  2.5 -1.  -1. ]]\n"
     ]
    }
   ],
   "source": [
    "# Kalikan baris indeks ke-2 dengan 1/2\n",
    "b = RowScale(a,2,1/2)\n",
    "print(b)"
   ]
  },
  {
   "cell_type": "code",
   "execution_count": 11,
   "metadata": {},
   "outputs": [
    {
     "name": "stdout",
     "output_type": "stream",
     "text": [
      "[[ 1.   1.   0.5  0.5  0.   0. ]\n",
      " [ 0.   1.   0.   3.5 -1.5 -1. ]\n",
      " [ 0.   0.   0.5  2.5 -1.  -1. ]]\n"
     ]
    }
   ],
   "source": [
    "# Tambahkan baris indeks ke-2 yang sudah dikalikan 1 ke baris indeks ke-1\n",
    "c = RowAdd(b,2,1,1)\n",
    "print(c)"
   ]
  },
  {
   "cell_type": "code",
   "execution_count": 12,
   "metadata": {},
   "outputs": [
    {
     "name": "stdout",
     "output_type": "stream",
     "text": [
      "[[ 1.   1.   0.  -2.   1.   1. ]\n",
      " [ 0.   1.   0.   3.5 -1.5 -1. ]\n",
      " [ 0.   0.   0.5  2.5 -1.  -1. ]]\n"
     ]
    }
   ],
   "source": [
    "# Tambahkan baris indeks ke-2 yang sudah dikalikan -1 ke baris indeks ke-0\n",
    "d = RowAdd(c,2,0,-1)\n",
    "print(d)"
   ]
  },
  {
   "cell_type": "code",
   "execution_count": 13,
   "metadata": {},
   "outputs": [
    {
     "name": "stdout",
     "output_type": "stream",
     "text": [
      "[[ 1.   1.   0.  -2.   1.   1. ]\n",
      " [ 0.   1.   0.   3.5 -1.5 -1. ]\n",
      " [ 0.   0.   1.   5.  -2.  -2. ]]\n"
     ]
    }
   ],
   "source": [
    "# Kalikan baris indeks ke-2 dengan 2\n",
    "e = RowScale(d,2,2)\n",
    "print(e)"
   ]
  },
  {
   "cell_type": "code",
   "execution_count": 14,
   "metadata": {},
   "outputs": [
    {
     "name": "stdout",
     "output_type": "stream",
     "text": [
      "[[ 1.   0.   0.  -5.5  2.5  2. ]\n",
      " [ 0.   1.   0.   3.5 -1.5 -1. ]\n",
      " [ 0.   0.   1.   5.  -2.  -2. ]]\n"
     ]
    }
   ],
   "source": [
    "# Tambahkan baris indeks ke-1 yang sudah dikalikan -1 ke baris indeks ke-0\n",
    "f = RowAdd(e,1,0,-1)\n",
    "print(f)\n",
    "\n",
    "# Matriks sudah berubah menjadi matriks invers."
   ]
  },
  {
   "cell_type": "code",
   "execution_count": 15,
   "metadata": {},
   "outputs": [
    {
     "name": "stdout",
     "output_type": "stream",
     "text": [
      "[[3.]\n",
      " [1.]\n",
      " [1.]]\n"
     ]
    }
   ],
   "source": [
    "# Dikalikan untuk menyelesaikan persamaan\n",
    "\n",
    "b = np.array([[9],[17],[5]])\n",
    "\n",
    "c = np.array([[-5.5,2.5,2],[3.5,-1.5,-1],[5,-2,-2]])\n",
    "\n",
    "print(c@b)"
   ]
  },
  {
   "cell_type": "markdown",
   "metadata": {},
   "source": [
    "## Menyelesaikan Sistem Persamaan Linear 4 Variabel Menggunakan Matrix Invers dengan Metode Eliminasi Gauss-Jordan\n",
    "\n",
    "Penyelesaian :\n",
    "\n",
    "$AX = B \\\\\n",
    "X = A^{-1} B$\n",
    "\n",
    "Persamaan :\n",
    "- $2x_1 - 3x_4 = 3$\n",
    "- $2x_2 + 2x_3 - 4x_4 = 4$\n",
    "- $3x_1 + 3x_3 = 6$\n",
    "- $-2x_2 - 2x_3 + 5x_4 = -3$\n",
    "\n",
    "Berikut langkah-langkahnya :"
   ]
  },
  {
   "cell_type": "code",
   "execution_count": 46,
   "metadata": {},
   "outputs": [
    {
     "name": "stdout",
     "output_type": "stream",
     "text": [
      "[[ 2  0  0 -3]\n",
      " [ 0  2  2 -4]\n",
      " [ 3  0  3  0]\n",
      " [ 0 -2 -2  5]]\n",
      "[[1 0 0 0]\n",
      " [0 1 0 0]\n",
      " [0 0 1 0]\n",
      " [0 0 0 1]]\n",
      "\n",
      "[[ 3]\n",
      " [ 4]\n",
      " [ 6]\n",
      " [-3]]\n"
     ]
    }
   ],
   "source": [
    "C = np.array([[2,0,0,-3],[0,2,2,-4],[3,0,3,0],[0,-2,-2,5]])\n",
    "I = np.array([[1,0,0,0],[0,1,0,0],[0,0,1,0],[0,0,0,1]])\n",
    "X = np.array([[3],[4],[6],[-3]])\n",
    "print(C)\n",
    "print(I)\n",
    "print(end=\"\\n\")\n",
    "print(X)"
   ]
  },
  {
   "cell_type": "code",
   "execution_count": 13,
   "metadata": {},
   "outputs": [
    {
     "name": "stdout",
     "output_type": "stream",
     "text": [
      "[[ 2.   0.   0.  -3. ]\n",
      " [ 0.   2.   2.  -4. ]\n",
      " [ 0.   0.   3.   4.5]\n",
      " [ 0.  -2.  -2.   5. ]]\n",
      "[[ 1.   0.   0.   0. ]\n",
      " [ 0.   1.   0.   0. ]\n",
      " [-1.5  0.   1.   0. ]\n",
      " [ 0.   0.   0.   1. ]]\n"
     ]
    }
   ],
   "source": [
    "# Tambahkan baris indeks ke-0 yang sudah dikalikan -3/2 ke baris indeks ke-2\n",
    "C1 = RowAdd(C,0,2,-3/2)\n",
    "print(C1)\n",
    "I1 = RowAdd(I,0,2,-3/2)\n",
    "print(I1)"
   ]
  },
  {
   "cell_type": "code",
   "execution_count": 14,
   "metadata": {},
   "outputs": [
    {
     "name": "stdout",
     "output_type": "stream",
     "text": [
      "[[ 2.   0.   0.  -3. ]\n",
      " [ 0.   2.   2.  -4. ]\n",
      " [ 0.   0.   3.   4.5]\n",
      " [ 0.   0.   0.   1. ]]\n",
      "[[ 1.   0.   0.   0. ]\n",
      " [ 0.   1.   0.   0. ]\n",
      " [-1.5  0.   1.   0. ]\n",
      " [ 0.   1.   0.   1. ]]\n"
     ]
    }
   ],
   "source": [
    "# Tambahkan baris indeks ke-1 yang sudah dikalikan 1 ke baris indeks ke-3\n",
    "C2 = RowAdd(C1,1,3,1)\n",
    "print(C2)\n",
    "I2 = RowAdd(I1,1,3,1)\n",
    "print(I2)"
   ]
  },
  {
   "cell_type": "code",
   "execution_count": 19,
   "metadata": {},
   "outputs": [
    {
     "name": "stdout",
     "output_type": "stream",
     "text": [
      "[[ 2.   0.   0.  -3. ]\n",
      " [ 0.   1.   1.  -2. ]\n",
      " [ 0.   0.   3.   4.5]\n",
      " [ 0.   0.   0.   1. ]]\n",
      "[[ 1.   0.   0.   0. ]\n",
      " [ 0.   0.5  0.   0. ]\n",
      " [-1.5  0.   1.   0. ]\n",
      " [ 0.   1.   0.   1. ]]\n"
     ]
    }
   ],
   "source": [
    "# Tambahkan baris indeks ke-1 yang sudah dikalikan 1/2 ke baris indeks ke-1\n",
    "C3 = RowScale(C2,1,1/2)\n",
    "print(C3)\n",
    "I3 = RowScale(I2,1,1/2)\n",
    "print(I3)"
   ]
  },
  {
   "cell_type": "code",
   "execution_count": 24,
   "metadata": {},
   "outputs": [
    {
     "name": "stdout",
     "output_type": "stream",
     "text": [
      "[[ 2.   0.   0.  -3. ]\n",
      " [ 0.   1.   0.  -3.5]\n",
      " [ 0.   0.   3.   4.5]\n",
      " [ 0.   0.   0.   1. ]]\n",
      "[[ 1.          0.          0.          0.        ]\n",
      " [ 0.5         0.5        -0.33333333  0.        ]\n",
      " [-1.5         0.          1.          0.        ]\n",
      " [ 0.          1.          0.          1.        ]]\n"
     ]
    }
   ],
   "source": [
    "# Tambahkan baris indeks ke-2 yang sudah dikalikan -1/3 ke baris indeks ke-1\n",
    "C4 = RowAdd(C3,2,1,-1/3)\n",
    "print(C4)\n",
    "I4 = RowAdd(I3,2,1,-1/3)\n",
    "print(I4)"
   ]
  },
  {
   "cell_type": "code",
   "execution_count": 27,
   "metadata": {},
   "outputs": [
    {
     "name": "stdout",
     "output_type": "stream",
     "text": [
      "[[ 2.   0.   0.   0. ]\n",
      " [ 0.   1.   0.  -3.5]\n",
      " [ 0.   0.   3.   4.5]\n",
      " [ 0.   0.   0.   1. ]]\n",
      "[[ 1.          3.          0.          3.        ]\n",
      " [ 0.5         0.5        -0.33333333  0.        ]\n",
      " [-1.5         0.          1.          0.        ]\n",
      " [ 0.          1.          0.          1.        ]]\n"
     ]
    }
   ],
   "source": [
    "# Tambahkan baris indeks ke-3 yang sudah dikalikan 3 ke baris indeks ke-0\n",
    "C5 = RowAdd(C4,3,0,3)\n",
    "print(C5)\n",
    "I5 = RowAdd(I4,3,0,3)\n",
    "print(I5)"
   ]
  },
  {
   "cell_type": "code",
   "execution_count": 39,
   "metadata": {},
   "outputs": [
    {
     "name": "stdout",
     "output_type": "stream",
     "text": [
      "[[2.  0.  0.  0. ]\n",
      " [0.  1.  0.  0. ]\n",
      " [0.  0.  3.  4.5]\n",
      " [0.  0.  0.  1. ]]\n",
      "[[ 1.          3.          0.          3.        ]\n",
      " [ 0.5         4.         -0.33333333  3.5       ]\n",
      " [-1.5         0.          1.          0.        ]\n",
      " [ 0.          1.          0.          1.        ]]\n"
     ]
    }
   ],
   "source": [
    "# Tambahkan baris indeks ke-3 yang sudah dikalikan 7/2 ke baris indeks ke-1\n",
    "C6 = RowAdd(C5,3,1,7/2)\n",
    "print(C6)\n",
    "I6 = RowAdd(I5,3,1,7/2)\n",
    "print(I6)"
   ]
  },
  {
   "cell_type": "code",
   "execution_count": 41,
   "metadata": {},
   "outputs": [
    {
     "name": "stdout",
     "output_type": "stream",
     "text": [
      "[[2.  0.  0.  0. ]\n",
      " [0.  1.  0.  0. ]\n",
      " [0.  0.  1.  1.5]\n",
      " [0.  0.  0.  1. ]]\n",
      "[[ 1.          3.          0.          3.        ]\n",
      " [ 0.5         4.         -0.33333333  3.5       ]\n",
      " [-0.5         0.          0.33333333  0.        ]\n",
      " [ 0.          1.          0.          1.        ]]\n"
     ]
    }
   ],
   "source": [
    "# Kalikan baris indeks-2 dengan 1/3\n",
    "C7 = RowScale(C6,2,1/3)\n",
    "print(C7)\n",
    "I7 = RowScale(I6,2,1/3)\n",
    "print(I7)"
   ]
  },
  {
   "cell_type": "code",
   "execution_count": 43,
   "metadata": {},
   "outputs": [
    {
     "name": "stdout",
     "output_type": "stream",
     "text": [
      "[[2. 0. 0. 0.]\n",
      " [0. 1. 0. 0.]\n",
      " [0. 0. 1. 0.]\n",
      " [0. 0. 0. 1.]]\n",
      "[[ 1.          3.          0.          3.        ]\n",
      " [ 0.5         4.         -0.33333333  3.5       ]\n",
      " [-0.5        -1.5         0.33333333 -1.5       ]\n",
      " [ 0.          1.          0.          1.        ]]\n"
     ]
    }
   ],
   "source": [
    "# Tambahkan baris indeks ke-3 yang sudah dikalikan -3/2 ke baris indeks ke-2\n",
    "C8 = RowAdd(C7,3,2,-3/2)\n",
    "print(C8)\n",
    "I8 = RowAdd(I7,3,2,-3/2)\n",
    "print(I8)"
   ]
  },
  {
   "cell_type": "code",
   "execution_count": 45,
   "metadata": {},
   "outputs": [
    {
     "name": "stdout",
     "output_type": "stream",
     "text": [
      "[[1. 0. 0. 0.]\n",
      " [0. 1. 0. 0.]\n",
      " [0. 0. 1. 0.]\n",
      " [0. 0. 0. 1.]]\n",
      "[[ 0.5         1.5         0.          1.5       ]\n",
      " [ 0.5         4.         -0.33333333  3.5       ]\n",
      " [-0.5        -1.5         0.33333333 -1.5       ]\n",
      " [ 0.          1.          0.          1.        ]]\n"
     ]
    }
   ],
   "source": [
    "# Kalikan baris indeks ke-0 dengan 1/2\n",
    "C9 = RowScale(C8,0,1/2)\n",
    "print(C9)\n",
    "I9 = RowScale(I8,0,1/2)\n",
    "print(I9)"
   ]
  },
  {
   "cell_type": "code",
   "execution_count": 52,
   "metadata": {},
   "outputs": [
    {
     "name": "stdout",
     "output_type": "stream",
     "text": [
      "[[ 3.]\n",
      " [ 5.]\n",
      " [-1.]\n",
      " [ 1.]]\n"
     ]
    }
   ],
   "source": [
    "# Penyelesaian = I9 x X\n",
    "sol = I9 @ X\n",
    "print(sol)"
   ]
  },
  {
   "cell_type": "markdown",
   "metadata": {},
   "source": [
    "Jadi, $x_1 = 3$, $x_2 = 5$, $x_3 = -1$, dan $x_4 = 1$."
   ]
  }
 ],
 "metadata": {
  "kernelspec": {
   "display_name": "Python 3 (ipykernel)",
   "language": "python",
   "name": "python3"
  }
 },
 "nbformat": 4,
 "nbformat_minor": 2
}
